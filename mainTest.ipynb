{
 "cells": [
  {
   "cell_type": "code",
   "execution_count": 1,
   "metadata": {},
   "outputs": [],
   "source": [
    "import cv2\n",
    "from PIL import Image\n",
    "from keras.models import load_model\n",
    "import numpy as np"
   ]
  },
  {
   "cell_type": "code",
   "execution_count": 2,
   "metadata": {},
   "outputs": [
    {
     "name": "stderr",
     "output_type": "stream",
     "text": [
      "WARNING:absl:Compiled the loaded model, but the compiled metrics have yet to be built. `model.compile_metrics` will be empty until you train or evaluate the model.\n"
     ]
    }
   ],
   "source": [
    "model = load_model(\"Brain_Tumor10EpochsCategorical.h5\")"
   ]
  },
  {
   "cell_type": "code",
   "execution_count": 3,
   "metadata": {},
   "outputs": [],
   "source": [
    "image=cv2.imread(\"D:\\\\Projects\\\\Brain_Tumor_Detection_Using_Deep_Learning\\\\pred\\\\pred5.jpg\")"
   ]
  },
  {
   "cell_type": "code",
   "execution_count": 4,
   "metadata": {},
   "outputs": [
    {
     "name": "stdout",
     "output_type": "stream",
     "text": [
      "\u001b[1m1/1\u001b[0m \u001b[32m━━━━━━━━━━━━━━━━━━━━\u001b[0m\u001b[37m\u001b[0m \u001b[1m0s\u001b[0m 152ms/step\n",
      "Predicted class: [0]\n",
      "Prediction probabilities: [[0.99557245 0.00442748]]\n"
     ]
    }
   ],
   "source": [
    "from tensorflow.keras.preprocessing import image\n",
    "import numpy as np\n",
    "from PIL import Image\n",
    "\n",
    "# Load the image from file\n",
    "img_path = 'D:\\\\Projects\\\\Brain_Tumor_Detection_Using_Deep_Learning\\\\pred\\\\pred0.jpg'\n",
    "\n",
    "img = image.load_img(img_path, target_size=(64, 64))\n",
    "\n",
    "# Convert the image to a numpy array\n",
    "img_array = image.img_to_array(img)\n",
    "\n",
    "# Normalize the image data to range [0, 1]\n",
    "img_array = img_array / 255.0\n",
    "\n",
    "# Add batch dimension (expand dims to shape (1, 64, 64, 3))\n",
    "input_img = np.expand_dims(img_array, axis=0)\n",
    "\n",
    "# Now predict\n",
    "predictions = model.predict(input_img)\n",
    "\n",
    "# If using softmax activation for multi-class classification\n",
    "predicted_class = np.argmax(predictions, axis=1)\n",
    "\n",
    "\n",
    "\n",
    "# Print the predicted class\n",
    "print(\"Predicted class:\", predicted_class)\n",
    "print(\"Prediction probabilities:\", predictions)\n"
   ]
  },
  {
   "cell_type": "code",
   "execution_count": null,
   "metadata": {},
   "outputs": [],
   "source": []
  },
  {
   "cell_type": "code",
   "execution_count": null,
   "metadata": {},
   "outputs": [],
   "source": []
  }
 ],
 "metadata": {
  "kernelspec": {
   "display_name": "Python 3",
   "language": "python",
   "name": "python3"
  },
  "language_info": {
   "codemirror_mode": {
    "name": "ipython",
    "version": 3
   },
   "file_extension": ".py",
   "mimetype": "text/x-python",
   "name": "python",
   "nbconvert_exporter": "python",
   "pygments_lexer": "ipython3",
   "version": "3.10.0"
  }
 },
 "nbformat": 4,
 "nbformat_minor": 2
}
